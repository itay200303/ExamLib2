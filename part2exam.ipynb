{
 "cells": [
  {
   "cell_type": "code",
   "execution_count": 105,
   "id": "683c021e-bb24-4778-b710-a3b68a0c3284",
   "metadata": {},
   "outputs": [],
   "source": [
    "import pandas as pd\n",
    "import matplotlib.pyplot as plt\n",
    "import seaborn as sns\n",
    "import matplotlib.pyplot as plt\n",
    "from IPython.display import display"
   ]
  },
  {
   "cell_type": "code",
   "execution_count": 57,
   "id": "1f86bc18-ebed-443c-a828-add5436ca2e7",
   "metadata": {},
   "outputs": [
    {
     "name": "stdout",
     "output_type": "stream",
     "text": [
      "Table: Customers\n",
      "Columns: ['id', 'first_name', 'last_name', 'gender', 'age', 'nationallity', 'joining_date', 'phone_number', 'email']\n",
      "Data Types: [dtype('int64'), dtype('O'), dtype('O'), dtype('O'), dtype('float64'), dtype('O'), dtype('O'), dtype('O'), dtype('O')]\n",
      "Non-null counts per column: id              500\n",
      "first_name      494\n",
      "last_name       494\n",
      "gender          447\n",
      "age             475\n",
      "nationallity    494\n",
      "joining_date    439\n",
      "phone_number    500\n",
      "email           500\n",
      "dtype: int64\n",
      "Total rows: 500\n",
      "Columns with missing values: id               0\n",
      "first_name       6\n",
      "last_name        6\n",
      "gender          53\n",
      "age             25\n",
      "nationallity     6\n",
      "joining_date    61\n",
      "phone_number     0\n",
      "email            0\n",
      "dtype: int64\n",
      "Table: Items\n",
      "Columns: ['id', 'item_name', 'item_category', 'item_price', 'stock_quantity', 'item_brand', 'item_availability']\n",
      "Data Types: [dtype('int64'), dtype('O'), dtype('O'), dtype('float64'), dtype('float64'), dtype('O'), dtype('bool')]\n",
      "Non-null counts per column: id                   50\n",
      "item_name            50\n",
      "item_category        39\n",
      "item_price           50\n",
      "stock_quantity       45\n",
      "item_brand           42\n",
      "item_availability    50\n",
      "dtype: int64\n",
      "Total rows: 50\n",
      "Columns with missing values: id                    0\n",
      "item_name             0\n",
      "item_category        11\n",
      "item_price            0\n",
      "stock_quantity        5\n",
      "item_brand            8\n",
      "item_availability     0\n",
      "dtype: int64\n",
      "Table: Order Item\n",
      "Columns: ['id', 'order_id', 'item_id', 'quantity']\n",
      "Data Types: [dtype('int64'), dtype('int64'), dtype('float64'), dtype('int64')]\n",
      "Non-null counts per column: id          1000\n",
      "order_id    1000\n",
      "item_id      960\n",
      "quantity    1000\n",
      "dtype: int64\n",
      "Total rows: 1000\n",
      "Columns with missing values: id           0\n",
      "order_id     0\n",
      "item_id     40\n",
      "quantity     0\n",
      "dtype: int64\n",
      "Table: Orders\n",
      "Columns: ['order_id', 'customer_id', 'delivery_address', 'delivery_days', 'order_date', 'payment_method', 'order_source']\n",
      "Data Types: [dtype('int64'), dtype('float64'), dtype('O'), dtype('float64'), dtype('O'), dtype('O'), dtype('O')]\n",
      "Non-null counts per column: order_id            600\n",
      "customer_id         555\n",
      "delivery_address    600\n",
      "delivery_days       525\n",
      "order_date          600\n",
      "payment_method      600\n",
      "order_source        600\n",
      "dtype: int64\n",
      "Total rows: 600\n",
      "Columns with missing values: order_id             0\n",
      "customer_id         45\n",
      "delivery_address     0\n",
      "delivery_days       75\n",
      "order_date           0\n",
      "payment_method       0\n",
      "order_source         0\n",
      "dtype: int64\n"
     ]
    }
   ],
   "source": [
    "## question 1\n",
    "\n",
    "order_item_df = pd.read_csv(\"order_item.csv\")\n",
    "items_df = pd.read_csv(\"items.csv\")\n",
    "customers_df = pd.read_csv(\"customers.csv\")\n",
    "orders_df = pd.read_csv(\"orders.csv\")\n",
    "\n",
    "def display_table_info(df, table_name):\n",
    "    print(f\"Table: {table_name}\")\n",
    "    print(f\"Columns: {df.columns.tolist()}\")\n",
    "    print(f\"Data Types: {df.dtypes.tolist()}\")\n",
    "    non_null_counts = df.notnull().sum()\n",
    "    print(f\"Non-null counts per column: {non_null_counts}\")\n",
    "    print(f\"Total rows: {len(df)}\")\n",
    "    print(f\"Columns with missing values: {df.isnull().sum()}\")\n",
    "\n",
    "display_table_info(customers_df, \"Customers\")\n",
    "display_table_info(items_df, \"Items\")\n",
    "display_table_info(order_item_df, \"Order Item\")\n",
    "display_table_info(orders_df, \"Orders\")"
   ]
  },
  {
   "cell_type": "code",
   "execution_count": 13,
   "id": "38d0f8cc-118a-40ea-ba94-84c417328dd5",
   "metadata": {},
   "outputs": [
    {
     "name": "stdout",
     "output_type": "stream",
     "text": [
      "Table: Customers\n",
      "Columns: ['id', 'first_name', 'last_name', 'gender', 'age', 'nationallity', 'joining_date', 'phone_number', 'email']\n",
      "Summary Statistics:                id first_name  last_name  gender         age   nationallity  \\\n",
      "count   500.000000        494        494     447  475.000000            494   \n",
      "unique         NaN        484        491       8         NaN             15   \n",
      "top            NaN    Massimo  Clitheroe  Female         NaN  United States   \n",
      "freq           NaN          2          2     203         NaN             98   \n",
      "mean    250.500000        NaN        NaN     NaN   44.006316            NaN   \n",
      "std     144.481833        NaN        NaN     NaN   14.813395            NaN   \n",
      "min       1.000000        NaN        NaN     NaN    2.000000            NaN   \n",
      "25%     125.750000        NaN        NaN     NaN   34.000000            NaN   \n",
      "50%     250.500000        NaN        NaN     NaN   44.000000            NaN   \n",
      "75%     375.250000        NaN        NaN     NaN   55.000000            NaN   \n",
      "max     500.000000        NaN        NaN     NaN   84.000000            NaN   \n",
      "\n",
      "       joining_date  phone_number                email  \n",
      "count           439           500                  500  \n",
      "unique          368           500                  500  \n",
      "top      14/05/2021  534-341-9052  emaffeo0@smh.com.au  \n",
      "freq              3             1                    1  \n",
      "mean            NaN           NaN                  NaN  \n",
      "std             NaN           NaN                  NaN  \n",
      "min             NaN           NaN                  NaN  \n",
      "25%             NaN           NaN                  NaN  \n",
      "50%             NaN           NaN                  NaN  \n",
      "75%             NaN           NaN                  NaN  \n",
      "max             NaN           NaN                  NaN  \n",
      "Table: Items\n",
      "Columns: ['id', 'item_name', 'item_category', 'item_price', 'stock_quantity', 'item_brand', 'item_availability']\n",
      "Summary Statistics:              id item_name              item_category   item_price  \\\n",
      "count   50.00000        50                         39    50.000000   \n",
      "unique       NaN        36                         12          NaN   \n",
      "top          NaN    Camera  Computers and Accessories          NaN   \n",
      "freq         NaN         3                          8          NaN   \n",
      "mean    25.50000       NaN                        NaN  2222.082600   \n",
      "std     14.57738       NaN                        NaN  1394.005145   \n",
      "min      1.00000       NaN                        NaN   241.540000   \n",
      "25%     13.25000       NaN                        NaN  1004.360000   \n",
      "50%     25.50000       NaN                        NaN  1956.220000   \n",
      "75%     37.75000       NaN                        NaN  3436.830000   \n",
      "max     50.00000       NaN                        NaN  4471.270000   \n",
      "\n",
      "        stock_quantity item_brand item_availability  \n",
      "count        45.000000         42                50  \n",
      "unique             NaN         14                 2  \n",
      "top                NaN       Bose              True  \n",
      "freq               NaN          5                45  \n",
      "mean        743.155556        NaN               NaN  \n",
      "std         332.855071        NaN               NaN  \n",
      "min          14.000000        NaN               NaN  \n",
      "25%         550.000000        NaN               NaN  \n",
      "50%         704.000000        NaN               NaN  \n",
      "75%         971.000000        NaN               NaN  \n",
      "max        1367.000000        NaN               NaN  \n",
      "Table: Order Item\n",
      "Columns: ['id', 'order_id', 'item_id', 'quantity']\n",
      "Summary Statistics:                id     order_id     item_id     quantity\n",
      "count  1000.000000  1000.000000  960.000000  1000.000000\n",
      "mean    500.500000   305.006000   25.746875     3.016000\n",
      "std     288.819436   171.251432   14.676686     2.288882\n",
      "min       1.000000     1.000000    1.000000     1.000000\n",
      "25%     250.750000   157.000000   13.000000     1.000000\n",
      "50%     500.500000   315.000000   26.000000     2.000000\n",
      "75%     750.250000   450.000000   38.000000     4.000000\n",
      "max    1000.000000   599.000000   50.000000     9.000000\n",
      "Table: Orders\n",
      "Columns: ['order_id', 'customer_id', 'delivery_address', 'delivery_days', 'order_date', 'payment_method', 'order_source']\n",
      "Summary Statistics:          order_id  customer_id    delivery_address  delivery_days  \\\n",
      "count   600.000000   555.000000                 600     525.000000   \n",
      "unique         NaN          NaN                 600            NaN   \n",
      "top            NaN          NaN  576 Cordelia Place            NaN   \n",
      "freq           NaN          NaN                   1            NaN   \n",
      "mean    300.500000   258.650450                 NaN       3.899048   \n",
      "std     173.349358   146.002993                 NaN       1.075091   \n",
      "min       1.000000     1.000000                 NaN       1.000000   \n",
      "25%     150.750000   136.000000                 NaN       3.000000   \n",
      "50%     300.500000   256.000000                 NaN       4.000000   \n",
      "75%     450.250000   385.000000                 NaN       5.000000   \n",
      "max     600.000000   500.000000                 NaN       6.000000   \n",
      "\n",
      "        order_date payment_method order_source  \n",
      "count          600            600          600  \n",
      "unique         301              4            2  \n",
      "top     2023-01-24           CASH      WEBSITE  \n",
      "freq             6            158          328  \n",
      "mean           NaN            NaN          NaN  \n",
      "std            NaN            NaN          NaN  \n",
      "min            NaN            NaN          NaN  \n",
      "25%            NaN            NaN          NaN  \n",
      "50%            NaN            NaN          NaN  \n",
      "75%            NaN            NaN          NaN  \n",
      "max            NaN            NaN          NaN  \n"
     ]
    }
   ],
   "source": [
    "def display_table_summary(df, table_name):\n",
    "    print(f\"Table: {table_name}\")\n",
    "    print(f\"Columns: {df.columns.tolist()}\")\n",
    "    summary = df.describe(include='all')  \n",
    "    print(f\"Summary Statistics:{summary}\")\n",
    "\n",
    "display_table_summary(customers_df, \"Customers\")\n",
    "display_table_summary(items_df, \"Items\")\n",
    "display_table_summary(order_item_df, \"Order Item\")\n",
    "display_table_summary(orders_df, \"Orders\")"
   ]
  },
  {
   "cell_type": "code",
   "execution_count": 27,
   "id": "b544e931-93bd-443d-acc5-f1b533e391b0",
   "metadata": {},
   "outputs": [
    {
     "name": "stdout",
     "output_type": "stream",
     "text": [
      "Table: Customers\n",
      "   id first_name  last_name  gender   age nationallity joining_date  \\\n",
      "0   1      Eadie     Maffeo  Female  41.0       France   11/01/2022   \n",
      "1   2     Hammad  Brewerton    Male  56.0       Isreal   30/09/2022   \n",
      "2   3    Terrell       Bris    Male  43.0        India          NaN   \n",
      "3   4    Frannie   Morewood    Male  84.0       France   26/05/2021   \n",
      "4   5      Sophi      Fleet  Female  33.0       Sweden   19/07/2021   \n",
      "\n",
      "   phone_number                      email  \n",
      "0  534-341-9052        emaffeo0@smh.com.au  \n",
      "1  999-994-0510  hbrewerton1@discovery.com  \n",
      "2  980-455-5208            tbris2@yale.edu  \n",
      "3  979-187-1493  fmorewood3@vistaprint.com  \n",
      "4  991-853-9984         sfleet4@unicef.org  \n",
      "Table: Items\n",
      "   id           item_name                item_category  item_price  \\\n",
      "0  26       Action Camera        Photography Equipment     2694.25   \n",
      "1  37  Antivirus Software                     Software     4186.62   \n",
      "2  11      Blu-Ray Player  Video Players and Recorders     3382.86   \n",
      "3  25           Camcorder        Photography Equipment      860.01   \n",
      "4   7              Camera        Photography Equipment     2366.72   \n",
      "\n",
      "   stock_quantity item_brand  item_availability  \n",
      "0             NaN       Bose              False  \n",
      "1             NaN        NaN              False  \n",
      "2           704.0       ASUS               True  \n",
      "3           870.0       Bose               True  \n",
      "4           458.0  Microsoft               True  \n",
      "Table: Order Item\n",
      "   id  order_id  item_id  quantity\n",
      "0   1       337     10.0         2\n",
      "1   2       430     27.0         6\n",
      "2   3       430     36.0         2\n",
      "3   4       508     46.0         1\n",
      "4   5       229     27.0         2\n",
      "Table: Orders\n",
      "   order_id  customer_id    delivery_address  delivery_days  order_date  \\\n",
      "0         1        477.0  576 Cordelia Place            2.0  2023-12-05   \n",
      "1         2         93.0      4664 6th Drive            4.0  2023-08-17   \n",
      "2         3        474.0      8766 4th Point            4.0  2023-02-25   \n",
      "3         4        333.0       31 Bonner Way            3.0  2023-02-04   \n",
      "4         5        436.0   20352 Shelley Way            5.0  2023-06-01   \n",
      "\n",
      "  payment_method order_source  \n",
      "0      GIFT_CARD      WEBSITE  \n",
      "1           CASH        STORE  \n",
      "2          CHECK        STORE  \n",
      "3           CASH        STORE  \n",
      "4           CASH        STORE  \n"
     ]
    }
   ],
   "source": [
    "def display_first_5_rows(df, table_name):\n",
    "    print(f\"Table: {table_name}\")\n",
    "    print(df.head())\n",
    "\n",
    "display_first_5_rows(customers_df, \"Customers\")\n",
    "display_first_5_rows(items_df, \"Items\")\n",
    "display_first_5_rows(order_item_df, \"Order Item\")\n",
    "display_first_5_rows(orders_df, \"Orders\")"
   ]
  },
  {
   "cell_type": "code",
   "execution_count": 53,
   "id": "ca0a9045-c63d-4ac2-b8d3-8b0c7428f324",
   "metadata": {},
   "outputs": [
    {
     "name": "stdout",
     "output_type": "stream",
     "text": [
      "   id           item_name                item_category  item_price  \\\n",
      "0  26       Action Camera        Photography Equipment     2694.25   \n",
      "1  37  Antivirus Software                     Software     4186.62   \n",
      "2  11      Blu-Ray Player  Video Players and Recorders     3382.86   \n",
      "3  25           Camcorder        Photography Equipment      860.01   \n",
      "4   7              Camera        Photography Equipment     2366.72   \n",
      "\n",
      "   stock_quantity item_brand  item_availability  non_null_count  \n",
      "0             NaN       Bose              False               7  \n",
      "1             NaN        NaN              False               6  \n",
      "2           704.0       ASUS               True               8  \n",
      "3           870.0       Bose               True               8  \n",
      "4           458.0  Microsoft               True               8  \n"
     ]
    }
   ],
   "source": [
    "items_df['non_null_count'] = items_df.notnull().sum(axis=1)\n",
    "\n",
    "sorted_items_df = items_df.sort_values(by=['item_name', 'non_null_count'], ascending=[True, False])\n",
    "\n",
    "unique_items_df = sorted_items_df.drop_duplicates(subset=['item_name'], keep='first')\n",
    "\n",
    "print(items_df.head())"
   ]
  },
  {
   "cell_type": "code",
   "execution_count": 51,
   "id": "2a36f6a9-edeb-435b-9e79-baccef9503a1",
   "metadata": {},
   "outputs": [
    {
     "name": "stdout",
     "output_type": "stream",
     "text": [
      "   id  order_id  item_id  quantity\n",
      "0   1       337     20.0         2\n",
      "1   2       430     20.0         6\n",
      "2   3       430     20.0         2\n",
      "3   4       508     20.0         1\n",
      "4   5       229     20.0         2\n"
     ]
    }
   ],
   "source": [
    "most_non_null_item_id = items_df.sort_values(by='non_null_count', ascending=False).iloc[0]['id']\n",
    "order_item_df['item_id'] = order_item_df['item_id'].apply(lambda x: most_non_null_item_id if order_item_df['item_id'].tolist().count(x) > 1 else x)\n",
    "\n",
    "print(order_item_df.head())"
   ]
  },
  {
   "cell_type": "code",
   "execution_count": 59,
   "id": "e3d721cf-197f-4470-8c5c-ab1b8315fee9",
   "metadata": {},
   "outputs": [
    {
     "name": "stdout",
     "output_type": "stream",
     "text": [
      "   id  order_id  item_id  quantity\n",
      "0   1       337     10.0         2\n",
      "1   2       430     27.0         6\n",
      "2   3       430     36.0         2\n",
      "3   4       508     46.0         1\n",
      "4   5       229     27.0         2\n",
      "   id first_name  last_name  gender   age nationallity joining_date  \\\n",
      "0   1      Eadie     Maffeo  Female  41.0       France   11/01/2022   \n",
      "1   2     Hammad  Brewerton    Male  56.0       Isreal   30/09/2022   \n",
      "2   3    Terrell       Bris    Male  43.0        India          NaN   \n",
      "3   4    Frannie   Morewood    Male  84.0       France   26/05/2021   \n",
      "4   5      Sophi      Fleet  Female  33.0       Sweden   19/07/2021   \n",
      "\n",
      "   phone_number                      email  \n",
      "0  534-341-9052        emaffeo0@smh.com.au  \n",
      "1  999-994-0510  hbrewerton1@discovery.com  \n",
      "2  980-455-5208            tbris2@yale.edu  \n",
      "3  979-187-1493  fmorewood3@vistaprint.com  \n",
      "4  991-853-9984         sfleet4@unicef.org  \n"
     ]
    }
   ],
   "source": [
    "missing_data_count = customers_df.isnull().sum(axis=1)\n",
    "customers_to_remove = customers_df[missing_data_count >= 3].index\n",
    "filtered_customers_df = customers_df.drop(customers_to_remove)\n",
    "\n",
    "orders_to_remove = filtered_customers_df['id'].tolist()\n",
    "filtered_order_item_df = order_item_df[~order_item_df['order_id'].isin(orders_to_remove)]\n",
    "print(order_item_df.head())\n",
    "print(customers_df.head())"
   ]
  },
  {
   "cell_type": "code",
   "execution_count": 75,
   "id": "6d521a89-cfc6-41ff-8c23-e05633eac4d2",
   "metadata": {},
   "outputs": [
    {
     "name": "stdout",
     "output_type": "stream",
     "text": [
      "   id_x  order_id  item_id  quantity  id_y  item_price  total_price\n",
      "0     1       337     10.0         2  10.0      453.85       907.70\n",
      "1     2       430     27.0         6  27.0     1283.99      7703.94\n",
      "2     3       430     36.0         2  36.0     3256.88      6513.76\n",
      "3     4       508     46.0         1  46.0     1606.65      1606.65\n",
      "4     5       229     27.0         2  27.0     1283.99      2567.98\n"
     ]
    }
   ],
   "source": [
    "## continue question 2\n",
    "\n",
    "order_item_with_price = order_item_df.merge(items_df[['id', 'item_price']], left_on='item_id', right_on='id', how='left')\n",
    "order_item_with_price['total_price'] = order_item_with_price['item_price'] * order_item_with_price['quantity']\n",
    "\n",
    "print(order_item_with_price.head())"
   ]
  },
  {
   "cell_type": "code",
   "execution_count": 77,
   "id": "4fdd625c-77a7-4434-95c2-26f4ab11802b",
   "metadata": {},
   "outputs": [
    {
     "name": "stdout",
     "output_type": "stream",
     "text": [
      "   order_id  total_price\n",
      "0         1      8554.20\n",
      "1         2     10148.58\n",
      "2         3      6843.36\n",
      "3         4       965.20\n",
      "4         5     63944.94\n"
     ]
    }
   ],
   "source": [
    "purchase_total_df = order_item_with_price.groupby('order_id')['total_price'].sum().reset_index()\n",
    "print(purchase_total_df.head())"
   ]
  },
  {
   "cell_type": "code",
   "execution_count": 79,
   "id": "b0ec0543-7ec0-4283-8750-8045d2b7eb65",
   "metadata": {},
   "outputs": [
    {
     "name": "stdout",
     "output_type": "stream",
     "text": [
      "Most Expensive Purchase: Order ID 484 with total price of 81267.68\n",
      "Cheapest Purchase: Order ID 289 with total price of 0.0\n",
      "Average Purchase Price: 14580.417133182846\n"
     ]
    }
   ],
   "source": [
    "\n",
    "max_purchase = purchase_total_df['total_price'].max()\n",
    "min_purchase = purchase_total_df['total_price'].min()\n",
    "avg_purchase = purchase_total_df['total_price'].mean()\n",
    "\n",
    "\n",
    "max_purchase_order_id = purchase_total_df[purchase_total_df['total_price'] == max_purchase]['order_id'].iloc[0]\n",
    "min_purchase_order_id = purchase_total_df[purchase_total_df['total_price'] == min_purchase]['order_id'].iloc[0]\n",
    "\n",
    "\n",
    "print(f\"Most Expensive Purchase: Order ID {max_purchase_order_id} with total price of {max_purchase}\")\n",
    "print(f\"Cheapest Purchase: Order ID {min_purchase_order_id} with total price of {min_purchase}\")\n",
    "print(f\"Average Purchase Price: {avg_purchase}\")"
   ]
  },
  {
   "cell_type": "code",
   "execution_count": 81,
   "id": "b527e1c3-698f-4d2f-b2ba-817a4fda03c7",
   "metadata": {},
   "outputs": [
    {
     "name": "stdout",
     "output_type": "stream",
     "text": [
      "gender         Agender  Bigender  Female  Genderfluid  Genderqueer  Male  \\\n",
      "nationallity                                                               \n",
      "Argentina            1         0      10            1            0     9   \n",
      "Brazil               0         0       6            0            0    17   \n",
      "Chile                1         0      14            0            0     9   \n",
      "China                0         0       5            1            1     9   \n",
      "France               1         0      15            1            0    10   \n",
      "Germany              0         0      12            0            0     3   \n",
      "India                1         0       8            0            0    15   \n",
      "Isreal               2         1      20            5            1    31   \n",
      "Italy                0         0      15            0            2    11   \n",
      "Japan                2         0      12            0            0     8   \n",
      "Peru                 1         0      12            1            0     6   \n",
      "South Korea          2         1      14            0            0    11   \n",
      "Spain                1         0       8            1            0     9   \n",
      "Sweden               0         0      11            2            0     4   \n",
      "United States        1         3      39            0            0    42   \n",
      "\n",
      "gender         Non-binary  Polygender  \n",
      "nationallity                           \n",
      "Argentina               0           1  \n",
      "Brazil                  2           1  \n",
      "Chile                   0           0  \n",
      "China                   0           1  \n",
      "France                  0           0  \n",
      "Germany                 0           1  \n",
      "India                   0           0  \n",
      "Isreal                  0           2  \n",
      "Italy                   0           0  \n",
      "Japan                   0           0  \n",
      "Peru                    0           0  \n",
      "South Korea             1           0  \n",
      "Spain                   0           0  \n",
      "Sweden                  0           0  \n",
      "United States           3           0  \n"
     ]
    }
   ],
   "source": [
    "pivot_table_customers = customers_df.pivot_table(index='nationallity', columns='gender', aggfunc='size', fill_value=0)\n",
    "print(pivot_table_customers)"
   ]
  },
  {
   "cell_type": "code",
   "execution_count": 83,
   "id": "8787bdf1-7cb9-4a8d-ab9b-f48c64d85165",
   "metadata": {},
   "outputs": [
    {
     "name": "stdout",
     "output_type": "stream",
     "text": [
      "gender         Agender  Bigender  Female  Genderfluid  Genderqueer  Male  \\\n",
      "nationallity                                                               \n",
      "Argentina            1         0      10            1            0     9   \n",
      "Brazil               0         0       6            0            0    17   \n",
      "Chile                1         0      14            0            0     9   \n",
      "China                0         0       5            1            1     9   \n",
      "France               1         0      15            1            0    10   \n",
      "Germany              0         0      12            0            0     3   \n",
      "India                1         0       8            0            0    15   \n",
      "Isreal               2         1      20            5            1    31   \n",
      "Italy                0         0      15            0            2    11   \n",
      "Japan                2         0      12            0            0     8   \n",
      "Peru                 1         0      12            1            0     6   \n",
      "South Korea          2         1      14            0            0    11   \n",
      "Spain                1         0       8            1            0     9   \n",
      "Sweden               0         0      11            2            0     4   \n",
      "United States        1         3      39            0            0    42   \n",
      "\n",
      "gender         Non-binary  Polygender  \n",
      "nationallity                           \n",
      "Argentina               0           1  \n",
      "Brazil                  2           1  \n",
      "Chile                   0           0  \n",
      "China                   0           1  \n",
      "France                  0           0  \n",
      "Germany                 0           1  \n",
      "India                   0           0  \n",
      "Isreal                  0           2  \n",
      "Italy                   0           0  \n",
      "Japan                   0           0  \n",
      "Peru                    0           0  \n",
      "South Korea             1           0  \n",
      "Spain                   0           0  \n",
      "Sweden                  0           0  \n",
      "United States           3           0  \n"
     ]
    }
   ],
   "source": [
    "customer_count_pivot = customers_df.pivot_table(index='nationallity', columns='gender', aggfunc='size', fill_value=0)\n",
    "print(customer_count_pivot)"
   ]
  },
  {
   "cell_type": "code",
   "execution_count": 89,
   "id": "198ab63e-9acc-48a0-9deb-ca2ab1fe9e9c",
   "metadata": {},
   "outputs": [
    {
     "data": {
      "text/plain": [
       "<Axes: xlabel='age', ylabel='Count'>"
      ]
     },
     "execution_count": 89,
     "metadata": {},
     "output_type": "execute_result"
    },
    {
     "data": {
      "image/png": "[encoded data removed]",
      "text/plain": [
       "<Figure size 1000x400 with 1 Axes>"
      ]
     },
     "metadata": {},
     "output_type": "display_data"
    }
   ],
   "source": [
    "df = pd.read_csv(\"customers.csv\")\n",
    "plt.figure(figsize=(10, 4))\n",
    "\n",
    "sns.histplot(data=df, x='age',bins=20, kde=True)"
   ]
  },
  {
   "cell_type": "code",
   "execution_count": 111,
   "id": "602fec60-1a2a-4430-b595-f9c95a9951b5",
   "metadata": {},
   "outputs": [
    {
     "data": {
      "image/png": "[encoded data removed]",
      "text/plain": [
       "<Figure size 1000x600 with 1 Axes>"
      ]
     },
     "metadata": {},
     "output_type": "display_data"
    }
   ],
   "source": [
    "df = pd.read_csv(\"customers.csv\")\n",
    "\n",
    "customers_df['joining_date'] = pd.to_datetime(customers_df['joining_date'], errors='coerce')\n",
    "\n",
    "customers_df['joining_year'] = customers_df['joining_date'].dt.year\n",
    "\n",
    "customers_per_year = customers_df['joining_year'].value_counts().sort_index()\n",
    "\n",
    "plt.figure(figsize=(10, 6))\n",
    "customers_per_year.plot(kind='bar', color='skyblue')\n",
    "plt.title('Number of New Customers by Year')\n",
    "plt.xlabel('Year')\n",
    "plt.ylabel('Number of Customers')\n",
    "plt.xticks(rotation=45)\n",
    "plt.tight_layout()\n",
    "plt.show()"
   ]
  },
  {
   "cell_type": "code",
   "execution_count": 121,
   "id": "3cec5760-6383-4657-bdff-b3cd7208a91c",
   "metadata": {},
   "outputs": [
    {
     "data": {
      "image/png": "[encoded data removed]",
      "text/plain": [
       "<Figure size 1000x600 with 1 Axes>"
      ]
     },
     "metadata": {},
     "output_type": "display_data"
    }
   ],
   "source": [
    "order_item_with_date['order_month_only'] = order_item_with_date['order_month'].dt.month\n",
    "\n",
    "sales_per_month_without_year = order_item_with_date['order_month_only'].value_counts().sort_index()\n",
    "\n",
    "plt.figure(figsize=(10, 6))\n",
    "sales_per_month_without_year.plot(kind='bar', color='lightcoral')\n",
    "plt.title('Number of Sales by Month')\n",
    "plt.xlabel('Month')\n",
    "plt.ylabel('Number of Sales')\n",
    "plt.xticks(rotation=45)\n",
    "plt.tight_layout()\n",
    "plt.show()"
   ]
  },
  {
   "cell_type": "code",
   "execution_count": 133,
   "id": "6aa22173-b35b-45f8-8339-54c060d00181",
   "metadata": {},
   "outputs": [
    {
     "data": {
      "image/png": "[encoded data removed]",
      "text/plain": [
       "<Figure size 1000x600 with 1 Axes>"
      ]
     },
     "metadata": {},
     "output_type": "display_data"
    }
   ],
   "source": [
    "orders_with_age = orders_df.merge(customers_df[['id', 'age']], left_on='customer_id', right_on='id', how='left')\n",
    "\n",
    "purchases_per_customer = orders_with_age.groupby('age').size()\n",
    "\n",
    "plt.figure(figsize=(10, 6))\n",
    "purchases_per_customer.plot(kind='hist', bins=15, color='lightyellow', edgecolor='black')\n",
    "plt.title('Distribution of Purchases by Age')\n",
    "plt.xlabel('Age')\n",
    "plt.ylabel('Number of Purchases')\n",
    "plt.tight_layout()\n",
    "plt.show()"
   ]
  }
 ],
 "metadata": {
  "kernelspec": {
   "display_name": "Python [conda env:base] *",
   "language": "python",
   "name": "conda-base-py"
  },
  "language_info": {
   "codemirror_mode": {
    "name": "ipython",
    "version": 3
   },
   "file_extension": ".py",
   "mimetype": "text/x-python",
   "name": "python",
   "nbconvert_exporter": "python",
   "pygments_lexer": "ipython3",
   "version": "3.12.7"
  }
 },
 "nbformat": 4,
 "nbformat_minor": 5
}
